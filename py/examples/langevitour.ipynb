{
 "cells": [
  {
   "cell_type": "code",
   "execution_count": null,
   "id": "2de626d3",
   "metadata": {
    "scrolled": true
   },
   "outputs": [],
   "source": [
    "%pip install langevitour"
   ]
  },
  {
   "cell_type": "code",
   "execution_count": null,
   "id": "c4e5d57f-6eae-40a4-8287-de1826412ca5",
   "metadata": {},
   "outputs": [],
   "source": [
    "import pandas as pd\n",
    "from langevitour import Langevitour\n",
    "\n",
    "# As an example we will use measurements of penguins made at Palmer Station, Antarctica.\n",
    "penguins = pd.read_csv(\"https://raw.githubusercontent.com/allisonhorst/palmerpenguins/c19a904462482430170bfe2c718775ddb7dbb885/inst/extdata/penguins.csv\")\n",
    "penguins.head()"
   ]
  },
  {
   "cell_type": "code",
   "execution_count": null,
   "id": "f9cfb930-9416-4687-bfd4-511c44a6d90b",
   "metadata": {},
   "outputs": [],
   "source": [
    "complete_penguins = penguins[\n",
    "    [\n",
    "        \"species\",\n",
    "        \"bill_length_mm\",\n",
    "        \"bill_depth_mm\",\n",
    "        \"flipper_length_mm\",\n",
    "        \"body_mass_g\",\n",
    "    ]\n",
    "].dropna()\n",
    "\n",
    "# Since the measurements are in different units, we supply an appropriate scaling.\n",
    "scale_factors = complete_penguins.iloc[:, 1:].std() * 4\n",
    "\n",
    "Langevitour(\n",
    "        complete_penguins.iloc[:, 1:],  # X\n",
    "        group=complete_penguins['species'].tolist(),  # group\n",
    "        levels=[\"Adelie\", \"Chinstrap\", \"Gentoo\"],\n",
    "        scale=scale_factors.tolist(),  # scale\n",
    "        point_size=2,  # pointSize\n",
    "    )"
   ]
  },
  {
   "cell_type": "markdown",
   "id": "582bf490-8ac0-4ea6-b033-4950dce9c52a",
   "metadata": {},
   "source": [
    "# Point size can be specified per-point"
   ]
  },
  {
   "cell_type": "code",
   "execution_count": null,
   "id": "74bc579e-4b7b-4b35-8bef-233aee8b4af5",
   "metadata": {},
   "outputs": [],
   "source": [
    "Langevitour(\n",
    "        complete_penguins.iloc[:, 1:],  # X\n",
    "        group=complete_penguins['species'].tolist(),  # group\n",
    "        levels=[\"Adelie\", \"Chinstrap\", \"Gentoo\"],\n",
    "        scale=scale_factors.tolist(),  # scale\n",
    "        point_size=(penguins.body_mass_g/1000).tolist(),  # pointSize\n",
    "    )"
   ]
  },
  {
   "cell_type": "markdown",
   "id": "5a449820-9561-4fce-b351-c94b1872563e",
   "metadata": {},
   "source": [
    "# Controls can be disabled entirely"
   ]
  },
  {
   "cell_type": "code",
   "execution_count": null,
   "id": "6c83cf57-be48-4e1d-a783-cd25546f9c0f",
   "metadata": {},
   "outputs": [],
   "source": [
    "Langevitour(\n",
    "        complete_penguins.iloc[:, 1:],  # X\n",
    "        group=complete_penguins['species'].tolist(),  # group\n",
    "        levels=[\"Adelie\", \"Chinstrap\", \"Gentoo\"],\n",
    "        scale=scale_factors.tolist(),  # scale\n",
    "        point_size=2,  # pointSize\n",
    "        enable_controls=False,\n",
    "    )"
   ]
  }
 ],
 "metadata": {
  "kernelspec": {
   "display_name": "Python 3 (ipykernel)",
   "language": "python",
   "name": "python3"
  },
  "language_info": {
   "codemirror_mode": {
    "name": "ipython",
    "version": 3
   },
   "file_extension": ".py",
   "mimetype": "text/x-python",
   "name": "python",
   "nbconvert_exporter": "python",
   "pygments_lexer": "ipython3",
   "version": "3.11.11"
  }
 },
 "nbformat": 4,
 "nbformat_minor": 5
}
